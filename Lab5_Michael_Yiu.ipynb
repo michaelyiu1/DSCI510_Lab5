{
 "cells": [
  {
   "cell_type": "markdown",
   "id": "07206aea",
   "metadata": {
    "id": "07206aea"
   },
   "source": [
    "# Lab 5\n",
    "---\n",
    "DSCI 510 (Hermjakob), Spring 2025, USC\n",
    "\n",
    "Hello and welcome to Lab 5.\n",
    "\n",
    "__Guidelines:__\n",
    "\n",
    "- Please write and submit the programs below by the deadline: Monday, February 24, 2025, at 6:00pm Pacific time.\n",
    "\n",
    "- You must complete the assignments individually. If you have trouble completing the assignment, please let one of the teaching assistants (TAs) know, during the lab or their office hours. They will help and guide you, but they will not write code for you and no one else should :) !!!  \n",
    "\n",
    "- You have to fill in the code in this notebook and upload it back to Brightspace for submission. Please remember to rename your file as \"Lab5_[YOUR FIRSTNAME]_[YOUR LASTNAME].ipynb\" (e.g. Lab5_George_Washington.ipynb).\n",
    "\n",
    "- You may look up resources online like python docs and stackoverflow. You may look up topics, but not the questions themselves.\n",
    "\n",
    "- You can submit only one time. Your grade will be based on this submission."
   ]
  },
  {
   "cell_type": "markdown",
   "id": "29a9dad4",
   "metadata": {
    "id": "29a9dad4"
   },
   "source": [
    "# Q1. Social Platform Member Manager [10 points]\n",
    "\n",
    "In many modern social platforms (such as Instagram, Twitter, or Facebook), users can choose to follow one another. Your task is to design a class named `Member` that represents an individual on such a platform. The class should support the following functionalities:\n",
    "\n",
    "## Unique Username\n",
    "\n",
    "- Each `Member` must have a username that is unique, ignoring case differences (i.e., 'Alice' and 'alice' are considered the same).\n",
    "- If an attempt is made to create a new member with a username that already exists, output an error message to the standard error stream (`stderr`) and mark the member as invalid rather than completing its creation.\n",
    "\n",
    "## Tracking Relationships\n",
    "\n",
    "Each valid `Member` should be able to keep track of:\n",
    "- The set of other members they are following.\n",
    "- The set of other members who follow them.\n",
    "\n",
    "## Methods to Implement\n",
    "\n",
    "1. **Follow another member:**  \n",
    "   Provide a method to allow one member to follow another, but only if both members are valid.\n",
    "2. **Unfollow a member:**  \n",
    "   Provide a method to allow one member to stop following another.\n",
    "3. **List Following:**  \n",
    "   Provide a method that returns a list of usernames that this member is following, sorted alphabetically.\n",
    "4. **List Followers:**  \n",
    "   Provide a method that returns a list of usernames of the members that follow this member, also sorted alphabetically.\n",
    "\n",
    "## Helper Functions\n",
    "\n",
    "Implement the following helper functions as **class methods** to manage member states:\n",
    "\n",
    "- `clear_existing_members`: Clears all valid members from the class-level storage.\n",
    "- `clear_invalid_members`: Clears all invalid members from the class-level storage."
   ]
  },
  {
   "cell_type": "code",
   "execution_count": 71,
   "id": "21e5dd00",
   "metadata": {
    "id": "21e5dd00"
   },
   "outputs": [],
   "source": [
    "import sys\n",
    "\n",
    "class Member:\n",
    "    members = set()\n",
    "\n",
    "    def __init__(self, name: str):\n",
    "        if name in Member.members:\n",
    "            sys.stderr.write(f'Username: {name} already exists, please choose another username')\n",
    "        else:\n",
    "            self.name = name\n",
    "            self.followers = set()\n",
    "            self.following = set()\n",
    "            Member.members.add(name) \n",
    "            print(self.name,'constructed')\n",
    "\n",
    "    def follow(self, other: \"Member\") -> None:\n",
    "        # 'self' now follows 'other'\n",
    "        if self.name != other.name and self.name and other.name:\n",
    "            self.following.add(other.name)\n",
    "            other.followers.add(self.name) \n",
    "            print(self.name,'now follows:',other.name)\n",
    "            \n",
    "\n",
    "    def unfollow(self, other) -> None:\n",
    "        # 'self' no longer follows 'other'\n",
    "        if self.name != other.name and self.name and other.name:\n",
    "            if other.name in self.following:\n",
    "                self.following.remove(other.name)\n",
    "                other.followers.remove(self.name)\n",
    "                print(self.name,'no longer follows',other.name)\n",
    "\n",
    "\n",
    "    def list_following(self) -> list[str]:\n",
    "        # return a list of other users that 'self' follows, sorted by alphabetical order.\n",
    "        if self:\n",
    "            user_following = sorted(list(self.following))\n",
    "            print('Users that',self.name,'follows')\n",
    "            return user_following\n",
    "\n",
    "    def list_followed_by(self) -> list[str]:\n",
    "        # return a list of other users that follow 'self', sorted by alphabetical order.\n",
    "        if self:\n",
    "            return sorted(self.followers)\n"
   ]
  },
  {
   "cell_type": "code",
   "execution_count": 72,
   "id": "6e11223c",
   "metadata": {
    "colab": {
     "base_uri": "https://localhost:8080/"
    },
    "id": "6e11223c",
    "outputId": "b8399ab8-2288-4783-fbfb-cba4c84e3342"
   },
   "outputs": [
    {
     "name": "stdout",
     "output_type": "stream",
     "text": [
      "Alice constructed\n",
      "Bob constructed\n",
      "Tom constructed\n",
      "Alice now follows: Tom\n",
      "Alice now follows: Bob\n",
      "Bob now follows: Tom\n",
      "Users that Alice follows\n",
      "['Bob', 'Tom']\n",
      "[]\n",
      "Users that Bob follows\n",
      "['Tom']\n",
      "['Alice']\n",
      "Users that Tom follows\n",
      "[]\n",
      "['Alice', 'Bob']\n",
      "Bob no longer follows Tom\n",
      "Users that Bob follows\n",
      "[]\n",
      "['Alice']\n"
     ]
    }
   ],
   "source": [
    "# open test\n",
    "\n",
    "alice = Member(\"Alice\")\n",
    "bob = Member(\"Bob\")\n",
    "tom = Member(\"Tom\")\n",
    "\n",
    "alice.follow(tom)\n",
    "alice.follow(bob)\n",
    "bob.follow(tom)\n",
    "\n",
    "print(alice.list_following()) # should be: [\"Bob\", \"Tom\"]\n",
    "print(alice.list_followed_by()) # should be: []\n",
    "print(bob.list_following()) # shoud be: [\"Tom\"]\n",
    "print(bob.list_followed_by()) # shoud be: [\"Alice\"]\n",
    "print(tom.list_following()) # shoud be: []\n",
    "print(tom.list_followed_by()) # shoud be: [\"Alice\", \"Bob\"]\n",
    "\n",
    "bob.unfollow(alice)\n",
    "bob.unfollow(bob)\n",
    "bob.unfollow(tom)\n",
    "\n",
    "print(bob.list_following()) # should be: []\n",
    "print(bob.list_followed_by()) # should be: [\"Alice\""
   ]
  },
  {
   "cell_type": "markdown",
   "id": "ecf47a2b",
   "metadata": {
    "id": "ecf47a2b"
   },
   "source": [
    "# Q2. E-Commerce Cart System [10 points]\n",
    "\n",
    "Many online shopping platforms require a system to manage their products and customers' shopping carts. In this assignment, you will create a simplified e-commerce cart system by implementing three classes: `Product`, `Shopper`, and `PremiumShopper`.\n",
    "\n",
    "---\n",
    "\n",
    "## 1. Product\n",
    "\n",
    "Implement the `Product` class with the following attributes:\n",
    "- **name** (`str`): The product's name.\n",
    "- **code** (`str`): A unique identifier for the product.\n",
    "- **price** (`float`): The current price per unit of the product.\n",
    "\n",
    "### Requirements:\n",
    "- Write the constructor (`__init__` method) to initialize these attributes.\n",
    "\n",
    "---\n",
    "\n",
    "## 2. Shopper\n",
    "\n",
    "Implement the `Shopper` class with these attributes:\n",
    "- **name** (`str`): The shopper's name.\n",
    "- **shopper_id** (`str`): A unique identifier for the shopper.\n",
    "- **cart**: A data structure of your choice to store `Product` objects and their associated quantities.\n",
    "\n",
    "### Methods to Implement:\n",
    "1. **Constructor**:  \n",
    "   Initialize the shopper's name, shopper_id, and cart.\n",
    "   \n",
    "2. **add_item(product, quantity)**:\n",
    "   - **product**: An instance of the `Product` class.\n",
    "   - **quantity**: A non-negative integer.\n",
    "   - **Functionality**:  \n",
    "     - If the product is not already in the cart, add it with the given quantity.\n",
    "     - If the product is already present, increase its quantity by the specified amount.\n",
    "     \n",
    "3. **remove_item(product, quantity)**:\n",
    "   - **product**: An instance of the `Product` class.\n",
    "   - **quantity**: A non-negative integer.\n",
    "   - **Functionality**:  \n",
    "     - If the product is not in the cart, do nothing.\n",
    "     - If the product exists and the quantity to remove is equal to or exceeds the current quantity, remove the product from the cart.\n",
    "     - Otherwise, reduce its quantity by the specified amount.\n",
    "     \n",
    "4. **cart_total()**:\n",
    "   - **Functionality**:  \n",
    "     - Calculate and return the grand total price for all items in the cart as a rounded float.\n",
    "     - Use the product's current `price` attribute in the calculation (to account for potential price updates).\n",
    "\n",
    "---\n",
    "\n",
    "## 3. PremiumShopper (Inheritance)\n",
    "\n",
    "Implement the `PremiumShopper` class as a subclass of `Shopper`.\n",
    "\n",
    "### Inheritance Requirements:\n",
    "- **PremiumShopper** should inherit all attributes and methods from the `Shopper` class.\n",
    "\n",
    "### Additional Functionality:\n",
    "- **Discount Policy**:  \n",
    "  Premium shoppers receive a 3.5% discount on their entire cart total if the total is $50 or more.\n",
    "  \n",
    "- **Method Override**:  \n",
    "  Override the `cart_total()` method in `PremiumShopper` to apply the discount when applicable."
   ]
  },
  {
   "cell_type": "code",
   "execution_count": null,
   "id": "ab261de9",
   "metadata": {
    "id": "ab261de9"
   },
   "outputs": [],
   "source": [
    "class Product:\n",
    "    pass # replace this line with your code\n",
    "\n",
    "class Shopper:\n",
    "    pass # replace this line with your code\n",
    "\n",
    "class PremiumShopper:\n",
    "    pass # replace this line with your code"
   ]
  },
  {
   "cell_type": "markdown",
   "id": "5039bd74",
   "metadata": {
    "id": "5039bd74"
   },
   "source": [
    "### Open Test"
   ]
  },
  {
   "cell_type": "code",
   "execution_count": null,
   "id": "15077c62",
   "metadata": {
    "colab": {
     "base_uri": "https://localhost:8080/"
    },
    "id": "15077c62",
    "outputId": "fb43c402-5463-4620-d333-cadbd7879661"
   },
   "outputs": [
    {
     "name": "stdout",
     "output_type": "stream",
     "text": [
      "Milk price: 10.5\n",
      "Egg item code: 998\n"
     ]
    }
   ],
   "source": [
    "# open test for class Product\n",
    "\n",
    "product1 = Product(\"milk\", \"999\", 10.5)\n",
    "product2 = Product(\"egg\", \"998\", 1.25)\n",
    "print(\"Milk price:\", product1.price)\n",
    "print(\"Egg item code:\", product2.code)"
   ]
  },
  {
   "cell_type": "markdown",
   "id": "64e5f24b",
   "metadata": {
    "id": "64e5f24b"
   },
   "source": [
    "Expected output:\n",
    "```\n",
    "Milk price: 10.5\n",
    "Egg item code: 998\n",
    "```"
   ]
  },
  {
   "cell_type": "code",
   "execution_count": null,
   "id": "13186d7a",
   "metadata": {
    "colab": {
     "base_uri": "https://localhost:8080/"
    },
    "id": "13186d7a",
    "outputId": "e4166014-6d6f-497c-a2ac-a9315f0f6be3"
   },
   "outputs": [
    {
     "name": "stdout",
     "output_type": "stream",
     "text": [
      "Shopper Bob cart total: 109.75\n",
      "Shopper Bob ID: 100\n"
     ]
    }
   ],
   "source": [
    "# open test for class Shopper\n",
    "\n",
    "product1.price = 10.5\n",
    "shopper1 = Shopper(\"Bob\", \"100\")\n",
    "shopper1.add_item(product1, 10)\n",
    "shopper1.add_item(product2, 5)\n",
    "product1.price += 1.5\n",
    "shopper1.remove_item(product1, 2)\n",
    "print(\"Shopper Bob cart total:\", shopper1.cart_total())\n",
    "print(\"Shopper Bob ID:\", shopper1.shopper_id)"
   ]
  },
  {
   "cell_type": "markdown",
   "id": "71e94f33",
   "metadata": {
    "id": "71e94f33"
   },
   "source": [
    "Expected output:\n",
    "```\n",
    "Shopper Bob cart total: 102.25\n",
    "Shopper Bob ID: 100\n",
    "```"
   ]
  },
  {
   "cell_type": "code",
   "execution_count": null,
   "id": "c78323ad",
   "metadata": {
    "colab": {
     "base_uri": "https://localhost:8080/"
    },
    "id": "c78323ad",
    "outputId": "76144403-ce07-4c75-d4de-02f634faac38"
   },
   "outputs": [
    {
     "name": "stdout",
     "output_type": "stream",
     "text": [
      "Shopper John cart total: 107.11\n",
      "Shopper John ID: 101\n"
     ]
    }
   ],
   "source": [
    "# open test for class PremiumShopper\n",
    "\n",
    "product1.price = 10.5\n",
    "shopper2 = PremiumShopper(\"John\", \"101\")\n",
    "shopper2.add_item(product1, 10)\n",
    "shopper2.add_item(product2, 5)\n",
    "shopper2.remove_item(product1, 1)\n",
    "shopper2.add_item(product2, 1)\n",
    "product2.price += 0.5\n",
    "print(\"Shopper John cart total:\",shopper2.cart_total())\n",
    "print(\"Shopper John ID:\", shopper2.shopper_id)"
   ]
  },
  {
   "cell_type": "markdown",
   "id": "2d35a90f",
   "metadata": {
    "id": "2d35a90f"
   },
   "source": [
    "Expected output:\n",
    "```\n",
    "Shopper cart total: 101.33\n",
    "Shopper John ID: 101\n",
    "```"
   ]
  },
  {
   "cell_type": "markdown",
   "id": "b1cdc895",
   "metadata": {
    "id": "b1cdc895"
   },
   "source": [
    "# Q3. Regular expressions [5+5 points]\n",
    "\n",
    "## Counting Chinese characters\n",
    "\n",
    "Using regular expressions, count the number of Chinese characters in a string.\n",
    "Do not include punctuation or spaces.\n",
    "\n",
    "Expected output for open test: 4 and 33.\n",
    "\n",
    "Useful resource: _Script support_ under https://uhermjakob.github.io/teaching/python.html"
   ]
  },
  {
   "cell_type": "code",
   "execution_count": null,
   "id": "339fabfa",
   "metadata": {
    "colab": {
     "base_uri": "https://localhost:8080/"
    },
    "id": "339fabfa",
    "outputId": "b4f9b06c-f2e9-4654-ec15-bd87f2b2033d"
   },
   "outputs": [
    {
     "name": "stdout",
     "output_type": "stream",
     "text": [
      "None\n",
      "None\n"
     ]
    }
   ],
   "source": [
    "import regex\n",
    "def count_Chinese_characters(s: str) -> int:\n",
    "    pass  # replace this line with your code\n",
    "\n",
    "# open test\n",
    "sentences = ['Crème brûlée: $6.90 (₹५७०, 四十七元) [before\\u00A0tax]',\n",
    "             \"南加州大学，简称南加大，也译作南加利福尼亚大学，位于美国加州洛杉矶市中心。\"]\n",
    "for snt in sentences:\n",
    "    print(count_Chinese_characters(snt))"
   ]
  },
  {
   "cell_type": "markdown",
   "id": "3d11bdc2",
   "metadata": {
    "id": "3d11bdc2"
   },
   "source": [
    "## Date conversion\n",
    "\n",
    "Using regular expressions with backreferences, convert British style dates such as _6 February 1952_ (day month year) to US-style dates such as _February 6, 1952_ (month day, year), leaving the rest of the sentence intact.\n",
    "\n",
    "For dates, days should not range outside 1-31, years should not range outside 1000-2999.\n",
    "You may assume that month names are fully spelled out. You don't have to process other formats.\n",
    "\n",
    "Expected output for open test case:<br>\n",
    "```\n",
    "Elizabeth II reigned from February 6, 1952 to September 8, 2022.\n",
    "The airline's fleet includes 40 Boeing 747 airplanes.\n",
    "```\n",
    "\n",
    "Useful resource: _Backreferences_ under https://uhermjakob.github.io/teaching/python.html"
   ]
  },
  {
   "cell_type": "code",
   "execution_count": null,
   "id": "25308804",
   "metadata": {
    "id": "25308804"
   },
   "outputs": [],
   "source": [
    "import regex\n",
    "def dates_to_US_format(s: str) -> str:\n",
    "    pass  # replace this line with your code\n",
    "\n",
    "# open test\n",
    "sentences = [\"Elizabeth II reigned from 6 February 1952 to 8 September 2022.\",\n",
    "             \"The airline's fleet includes 40 Boeing 747 airplanes.\"]\n",
    "for snt in sentences:\n",
    "    print(dates_to_US_format(snt))"
   ]
  },
  {
   "cell_type": "markdown",
   "id": "535aa27a",
   "metadata": {
    "id": "535aa27a"
   },
   "source": [
    "# Bonus question [5 points]\n",
    "\n",
    "## Price conversion\n",
    "\n",
    "Using regular expressions, convert prices from Euros to US dollars.<br>\n",
    "You may assume Euro prices to be in regular Euro sign format, e.g. €1.50 or €25\n",
    "\n",
    "Expected output for open test:\n",
    "```\n",
    "Prices fell from $23.58 to $18.90 over the last week.\n",
    "My dinner bill was $135.79 on Febr. 19.\n",
    "```\n",
    "\n",
    "Useful resource: _Simple glosser_ under https://uhermjakob.github.io/teaching/python.html"
   ]
  },
  {
   "cell_type": "code",
   "execution_count": null,
   "id": "58f730c4",
   "metadata": {
    "colab": {
     "base_uri": "https://localhost:8080/"
    },
    "id": "58f730c4",
    "outputId": "40047531-e25e-4eee-c33d-48734e1348de"
   },
   "outputs": [
    {
     "name": "stdout",
     "output_type": "stream",
     "text": [
      "None\n",
      "None\n"
     ]
    }
   ],
   "source": [
    "import regex\n",
    "def convert_prices_from_EUR_to_USD(s: str, exchange_rate: float) -> str:\n",
    "    # As of 2/20/2025, the Euro-US exchange_rate is 1.0502\n",
    "    pass  # replace this line with your code\n",
    "\n",
    "# open test\n",
    "sentences = [\"Prices fell from €22.45 to €18 over the last week.\",\n",
    "             \"My dinner bill was $135.79 on Febr. 19.\"]\n",
    "for snt in sentences:\n",
    "    print(convert_prices_from_EUR_to_USD(snt, 1.0502))"
   ]
  }
 ],
 "metadata": {
  "colab": {
   "provenance": []
  },
  "kernelspec": {
   "display_name": "base",
   "language": "python",
   "name": "python3"
  },
  "language_info": {
   "codemirror_mode": {
    "name": "ipython",
    "version": 3
   },
   "file_extension": ".py",
   "mimetype": "text/x-python",
   "name": "python",
   "nbconvert_exporter": "python",
   "pygments_lexer": "ipython3",
   "version": "3.11.7"
  }
 },
 "nbformat": 4,
 "nbformat_minor": 5
}
